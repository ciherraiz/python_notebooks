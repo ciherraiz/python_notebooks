{
 "cells": [
  {
   "cell_type": "markdown",
   "metadata": {},
   "source": [
    "# Cierres (closures)"
   ]
  },
  {
   "cell_type": "markdown",
   "metadata": {},
   "source": [
    "Vamos a ver qué hace el siguiente código:"
   ]
  },
  {
   "cell_type": "code",
   "execution_count": 89,
   "metadata": {
    "collapsed": true
   },
   "outputs": [],
   "source": [
    "def primera(x):\n",
    "    def segunda(y):\n",
    "        return x + y\n",
    "    return segunda"
   ]
  },
  {
   "cell_type": "markdown",
   "metadata": {},
   "source": [
    "En este código tenemos:\n",
    "\n",
    "1. Una función anidada (una función dentro de otra)\n",
    "2. La función anidada hace referencia a un valor definido en la función envolvente\n",
    "3. La función envolvente devuelve la función anidada\n",
    "\n",
    "¿Qué sucede si ejecutamos `primera`?"
   ]
  },
  {
   "cell_type": "code",
   "execution_count": 90,
   "metadata": {
    "collapsed": false
   },
   "outputs": [
    {
     "data": {
      "text/plain": [
       "<function __main__.primera.<locals>.segunda>"
      ]
     },
     "execution_count": 90,
     "metadata": {},
     "output_type": "execute_result"
    }
   ],
   "source": [
    "primera(1)"
   ]
  },
  {
   "cell_type": "markdown",
   "metadata": {},
   "source": [
    "Tenemos una función. Hemos construido una función que devuelve otra función. Vamos a darle un nombre a esa función devuelta y la vamos a ejecutar:"
   ]
  },
  {
   "cell_type": "code",
   "execution_count": 91,
   "metadata": {
    "collapsed": false
   },
   "outputs": [
    {
     "data": {
      "text/plain": [
       "<function __main__.primera.<locals>.segunda>"
      ]
     },
     "execution_count": 91,
     "metadata": {},
     "output_type": "execute_result"
    }
   ],
   "source": [
    "f = primera(1)\n",
    "f"
   ]
  },
  {
   "cell_type": "code",
   "execution_count": 10,
   "metadata": {
    "collapsed": false
   },
   "outputs": [
    {
     "data": {
      "text/plain": [
       "3"
      ]
     },
     "execution_count": 10,
     "metadata": {},
     "output_type": "execute_result"
    }
   ],
   "source": [
    "f(2)"
   ]
  },
  {
   "cell_type": "markdown",
   "metadata": {},
   "source": [
    "Por lo tanto lo que hemos hecho es crear una función que se llama `primera` que recibe un parámetro `x`. En el cuerpo de `primera` creamos una función interna que se llama `segunda` y que espera recibir otro parámetro, `y`. La función interna devuelve la suma de `x` e `y`, y la función externa devuelve la función interna.\n",
    "\n",
    "¿Pero cómo es que `segunda` tiene acceso a `x`? ¿No lanza Python una excepción?\n",
    "\n",
    "Veamos qué hace Python cuando llega a ese punto de código:\n",
    "\n",
    "+ Mira si `x` está en el diccionario de `locals()`. `locals()` devuelve las variables definidas en el ámbito más cercano, que en este caso es el de `segunda`. Si encuentra, entonces el valor de `x` es el valor asociado a `x` en `locals()`:\n",
    "\n",
    "```python\n",
    "if x in locals():\n",
    "    return locals()[x]\n",
    "```\n",
    "        \n",
    "+ Mira si `x` está en el diccionario de `globals()`. `globals()` devuelve las variables definidas a nivel de módulo, es decir las variables que no están definidas dentro de un ámbito de clases o función. Si encuentra, entonces el valor de `x` es el valor asociado a `x` en `globals()`:\n",
    "\n",
    "```python\n",
    "if x in locals():\n",
    "    return locals()[x]\n",
    "```\n",
    "\n",
    "+ Mira si `x` está en el diccionario de `__builtins__.__dict__`. `__builtins__.__dict__` contiene aquellas variables definidas en el módulo `builtin`y son importadas automáticamente cuando se ejecuta Python). Si encuentra, entonces el valor de `x` es el valor asociado a `x` en `__builtins__.__dict__`:\n",
    "\n",
    "```python\n",
    "if x in __builtins__.__dict__:\n",
    "return __builtins__.__dict__[x]\n",
    "```\n",
    "        \n",
    "+ Si no se cumple nada de lo anterior, lanza una excepción `NameError`.\n",
    "\n",
    "En nuestro caso la variable `x` no cumple con con ninguno de los 4 puntos anteriores. ¿Qué está pasando?\n",
    "\n"
   ]
  },
  {
   "cell_type": "code",
   "execution_count": 92,
   "metadata": {
    "collapsed": false
   },
   "outputs": [],
   "source": [
    "def primera(x):\n",
    "    print (\"Dentro de primera\")\n",
    "    print (\"locals(): \", locals())\n",
    "    def segunda(y):\n",
    "        print (\"Dentro de segunda\")\n",
    "        print (\"locals():\", locals())\n",
    "        return x + y\n",
    "    return segunda"
   ]
  },
  {
   "cell_type": "markdown",
   "metadata": {},
   "source": [
    "Según lo que hemos hablado, `x` debería ser devuelva por `locals()` de `crea_mi funcion` y no por `locals()` de `mi funcion`, así que probémoslo:"
   ]
  },
  {
   "cell_type": "code",
   "execution_count": 93,
   "metadata": {
    "collapsed": false
   },
   "outputs": [
    {
     "name": "stdout",
     "output_type": "stream",
     "text": [
      "Dentro de primera\n",
      "locals():  {'x': 1}\n"
     ]
    }
   ],
   "source": [
    "f = primera(1)"
   ]
  },
  {
   "cell_type": "code",
   "execution_count": 94,
   "metadata": {
    "collapsed": false
   },
   "outputs": [
    {
     "name": "stdout",
     "output_type": "stream",
     "text": [
      "Dentro de segunda\n",
      "locals(): {'y': 2, 'x': 1}\n"
     ]
    },
    {
     "data": {
      "text/plain": [
       "3"
      ]
     },
     "execution_count": 94,
     "metadata": {},
     "output_type": "execute_result"
    }
   ],
   "source": [
    "f(2)"
   ]
  },
  {
   "cell_type": "markdown",
   "metadata": {},
   "source": [
    "Ohhhhhh, `x` aparece dentro de `locals()` de `segunda`, por eso no me lanza la excepción. Bueno, veamos qué dice la [documentación](https://docs.python.org/2/library/functions.html#locals) acerca de `locals()`:\n",
    "\n",
    "*Update and return a dictionary representing the current local symbol table. **Free variables are returned by locals() when it is called in function blocks**, but not in class blocks.*\n",
    "**Note** *The contents of this dictionary should not be modified; changes may not affect the values of local and free variables used by the interpreter.*\n",
    "\n",
    "¿Qué es una variable libre? Veamos en la [documentación](https://docs.python.org/2/reference/executionmodel.html)\n",
    "\n",
    "*When a name is used in a code block, it is resolved using the nearest enclosing scope. The set of all such scopes visible to a code block is called the block’s environment.*\n",
    "\n",
    "*If a name is bound in a block, it is a local variable of that block. If a name is bound at the module level, it is a global variable. (The variables of the module code block are local and global.) **If a variable is used in a code block but not defined there, it is a free variable.***\n",
    "\n",
    "En nuestro caso `x` es una variable libre porque se define en `primera` y se usa en `segunda`. \n",
    "\n",
    "Decimos por tanto que **una función que usa una variable libre es un cierre**.\n",
    "\n",
    "\n",
    "Por lo tanto **`locals()` devuelve tanto las variables locales y las variables libres cuando se llama desde una función.**\n"
   ]
  },
  {
   "cell_type": "markdown",
   "metadata": {},
   "source": [
    "___\n",
    "###5 propiedades de los cierres"
   ]
  },
  {
   "cell_type": "markdown",
   "metadata": {},
   "source": [
    "1 El entorno del cierre es almacenado en la propiedad ``__closure__`` (func_closure para Python2) de la función: Las variables libres se almacen ahí en el caso de que se usen [(closure)](https://docs.python.org/3/reference/datamodel.html#the-standard-type-hierarchy)[(cell)](https://docs.python.org/2/c-api/cell.html)."
   ]
  },
  {
   "cell_type": "code",
   "execution_count": 86,
   "metadata": {
    "collapsed": false
   },
   "outputs": [
    {
     "name": "stdout",
     "output_type": "stream",
     "text": [
      "Locals  {'y': 2, 'a': 10, 'z': 3, 'x': 1}\n",
      "Vars  {'y': 2, 'a': 10, 'z': 3, 'x': 1}\n",
      "16\n"
     ]
    }
   ],
   "source": [
    "o = 100\n",
    "def primera(x):\n",
    "    def segunda(y):\n",
    "        a = 10\n",
    "        def tercera(z):\n",
    "            print(\"Locals \", locals())\n",
    "            print(\"Vars \", vars())\n",
    "            return a + x + y + z\n",
    "        return tercera\n",
    "    return segunda\n",
    "\n",
    "print(primera(1)(2)(3))"
   ]
  },
  {
   "cell_type": "code",
   "execution_count": 87,
   "metadata": {
    "collapsed": false
   },
   "outputs": [
    {
     "name": "stdout",
     "output_type": "stream",
     "text": [
      "Variables libres de primera:  None\n",
      "Variables libres de segunda:  (<cell at 0x7f1cfc368cd8: int object at 0x7f1d0506d080>,)\n",
      "[1]\n",
      "Variables libres de tercera:  (<cell at 0x7f1cfc368fa8: int object at 0x7f1d0506d1a0>, <cell at 0x7f1cfc368e88: int object at 0x7f1d0506d080>, <cell at 0x7f1cfc368fd8: int object at 0x7f1d0506d0a0>)\n",
      "[10, 1, 2]\n"
     ]
    }
   ],
   "source": [
    "print(\"Variables libres de primera: \", primera.__closure__)\n",
    "\n",
    "s = primera(1)\n",
    "print(\"Variables libres de segunda: \", s.__closure__)\n",
    "print([i.cell_contents for i in s.__closure__])\n",
    "\n",
    "t = media(2)\n",
    "print(\"Variables libres de tercera: \", t.__closure__)\n",
    "print([i.cell_contents for i in t.__closure__])\n"
   ]
  },
  {
   "cell_type": "markdown",
   "metadata": {},
   "source": [
    "2 Funciones sin variables libres no tienen cierre"
   ]
  },
  {
   "cell_type": "code",
   "execution_count": 54,
   "metadata": {
    "collapsed": false
   },
   "outputs": [
    {
     "name": "stdout",
     "output_type": "stream",
     "text": [
      "Variables libres de segunda:  None\n"
     ]
    }
   ],
   "source": [
    "def primera(x):\n",
    "    def segunda(y):\n",
    "        pass\n",
    "    return segunda\n",
    "\n",
    "s = primera(1)\n",
    "print(\"Variables libres de segunda: \", s.__closure__)\n"
   ]
  },
  {
   "cell_type": "markdown",
   "metadata": {},
   "source": [
    "3 Se produce un cierre cuando es una función anidada, aunque no utilice variables libres"
   ]
  },
  {
   "cell_type": "code",
   "execution_count": 69,
   "metadata": {
    "collapsed": false,
    "scrolled": false
   },
   "outputs": [
    {
     "name": "stdout",
     "output_type": "stream",
     "text": [
      "Variables libres de segunda:  None\n",
      "Variables libres de tercera:  (<cell at 0x7f1cfc368df8: int object at 0x7f1d0506d0a0>,)\n",
      "Variables libres de cuarta:  (<cell at 0x7f1cfc368df8: int object at 0x7f1d0506d0a0>,)\n"
     ]
    }
   ],
   "source": [
    "def primera(w):\n",
    "    def segunda(x): #no usa variables libres\n",
    "        def tercera(y): #no usa variables libres\n",
    "            def cuarta(z): #sí usa variables libres\n",
    "                return x\n",
    "            return cuarta\n",
    "        return tercera\n",
    "    return segunda\n",
    "\n",
    "s = primera(1)\n",
    "print(\"Variables libres de segunda: \", s.__closure__)\n",
    "t = s(2)\n",
    "print(\"Variables libres de tercera: \", t.__closure__)\n",
    "c = t(3)\n",
    "print(\"Variables libres de cuarta: \", c.__closure__)"
   ]
  },
  {
   "cell_type": "markdown",
   "metadata": {},
   "source": [
    "4 Las funciones globales no almacenan nada en `__closure__`"
   ]
  },
  {
   "cell_type": "code",
   "execution_count": 70,
   "metadata": {
    "collapsed": false
   },
   "outputs": [
    {
     "name": "stdout",
     "output_type": "stream",
     "text": [
      "A través de globals():  10\n",
      "Directamente:  10\n",
      "Variables libres:  None\n"
     ]
    }
   ],
   "source": [
    "variable_global = 10\n",
    "def funcion():\n",
    "    print(\"A través de globals(): \", globals()[\"variable_global\"])\n",
    "    print(\"Directamente: \", variable_global)\n",
    "\n",
    "funcion()\n",
    "print (\"Variables libres: \",funcion.__closure__)"
   ]
  },
  {
   "cell_type": "markdown",
   "metadata": {},
   "source": [
    "5 Por defecto la asignación crea una variable local. \n",
    "\n",
    "En el siguiente código: ¿qué sucede si quiero modificar el valor de la variable `n1` que está declarada en `primera` desde `segunda`?"
   ]
  },
  {
   "cell_type": "code",
   "execution_count": 82,
   "metadata": {
    "collapsed": false
   },
   "outputs": [
    {
     "name": "stdout",
     "output_type": "stream",
     "text": [
      "valor de g fuera inicio: 10\n",
      "valor de g dentro: 100\n",
      "valor de n1 en primera antes: 1\n",
      "valor de n1 en segunda: 0\n",
      "valor de n1 en primera despues: 1\n",
      "valor de n1 en segunda: 0\n",
      "valor de g fuera final: 10\n"
     ]
    }
   ],
   "source": [
    "g = 10\n",
    "print(\"valor de g fuera inicio:\", g)\n",
    "def primera(x):\n",
    "    g = 100\n",
    "    print(\"valor de g dentro:\", g)\n",
    "    \n",
    "    n1 = 1\n",
    "    print(\"valor de n1 en primera antes:\", n1)\n",
    "    \n",
    "    def segunda(y):\n",
    "        n1 = 0\n",
    "        print(\"valor de n1 en segunda:\", n1)\n",
    "        n2 = 2\n",
    "        \n",
    "    segunda(2)\n",
    "    print(\"valor de n1 en primera despues:\", n1)\n",
    "    return segunda\n",
    "\n",
    "primera(1)(2)\n",
    "print(\"valor de g fuera final:\", g)\n",
    "        "
   ]
  },
  {
   "cell_type": "markdown",
   "metadata": {},
   "source": [
    "Para poder modificar el valor de una variable libre desde la función interna es necesario utilizar `nonlocal`"
   ]
  },
  {
   "cell_type": "code",
   "execution_count": 85,
   "metadata": {
    "collapsed": false,
    "scrolled": true
   },
   "outputs": [
    {
     "name": "stdout",
     "output_type": "stream",
     "text": [
      "valor de g fuera inicio: 10\n",
      "valor de g dentro: 100\n",
      "valor de n1 en primera antes: 1\n",
      "valor de n1 en segunda: 0\n",
      "valor de n1 en primera despues: 0\n",
      "valor de n1 en segunda: 0\n",
      "valor de g fuera final: 100\n"
     ]
    }
   ],
   "source": [
    "g = 10\n",
    "print(\"valor de g fuera inicio:\", g)\n",
    "def primera(x):\n",
    "    global g\n",
    "    g = 100\n",
    "    print(\"valor de g dentro:\", g)\n",
    "    \n",
    "    n1 = 1\n",
    "    print(\"valor de n1 en primera antes:\", n1)\n",
    "    \n",
    "    def segunda(y):\n",
    "        nonlocal n1\n",
    "        n1 = 0\n",
    "        print(\"valor de n1 en segunda:\", n1)\n",
    "        n2 = 2\n",
    "        \n",
    "    segunda(2)\n",
    "    print(\"valor de n1 en primera despues:\", n1)\n",
    "    return segunda\n",
    "\n",
    "primera(1)(2)\n",
    "print(\"valor de g fuera final:\", g)"
   ]
  },
  {
   "cell_type": "markdown",
   "metadata": {},
   "source": [
    "###¿Para qué pueden servir los cierres?\n",
    "\n",
    "Se puede utilizar para evitar valores globales u ocultar datos. Son muy utilizados por los **decoradores**..."
   ]
  },
  {
   "cell_type": "markdown",
   "metadata": {},
   "source": [
    "Algunos recursos utilizados:\n",
    "\n",
    "    http://mathamy.com/python-closures-and-free-variables.html\n",
    "    https://gist.github.com/DmitrySoshnikov/700292\n",
    "    http://www.programiz.com/python-programming/closure\n",
    "    http://elclubdelautodidacta.es/wp/2013/01/python-el-calificador-de-ambito-nonlocal/\n",
    "    http://www.kirupa.com/html5/closures_in_javascript.htm\n",
    "        "
   ]
  }
 ],
 "metadata": {
  "kernelspec": {
   "display_name": "Python 3",
   "language": "python",
   "name": "python3"
  },
  "language_info": {
   "codemirror_mode": {
    "name": "ipython",
    "version": 3
   },
   "file_extension": ".py",
   "mimetype": "text/x-python",
   "name": "python",
   "nbconvert_exporter": "python",
   "pygments_lexer": "ipython3",
   "version": "3.4.3"
  }
 },
 "nbformat": 4,
 "nbformat_minor": 0
}
