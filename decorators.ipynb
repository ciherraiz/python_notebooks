{
 "cells": [
  {
   "cell_type": "markdown",
   "metadata": {},
   "source": [
    "# Closures"
   ]
  },
  {
   "cell_type": "markdown",
   "metadata": {},
   "source": [
    "Vamos a ver qué hace el siguiente código:"
   ]
  },
  {
   "cell_type": "code",
   "execution_count": 2,
   "metadata": {
    "collapsed": true
   },
   "outputs": [],
   "source": [
    "def crea_mifuncion(x):\n",
    "    def mifuncion(y):\n",
    "        return x + y\n",
    "    return mifuncion"
   ]
  },
  {
   "cell_type": "markdown",
   "metadata": {},
   "source": [
    "Qué sucede si ejecutamos `crea_mifuncion`"
   ]
  },
  {
   "cell_type": "code",
   "execution_count": 3,
   "metadata": {
    "collapsed": false
   },
   "outputs": [
    {
     "data": {
      "text/plain": [
       "<function __main__.crea_mifuncion.<locals>.mifuncion>"
      ]
     },
     "execution_count": 3,
     "metadata": {},
     "output_type": "execute_result"
    }
   ],
   "source": [
    "crea_mifuncion(1)"
   ]
  },
  {
   "cell_type": "markdown",
   "metadata": {},
   "source": [
    "Tenemos una función. Hemos construido una función que devuelve otra función. Vamos a darle un nombre a esa función devuelta y la vamos a ejecutar:"
   ]
  },
  {
   "cell_type": "code",
   "execution_count": 11,
   "metadata": {
    "collapsed": false
   },
   "outputs": [
    {
     "data": {
      "text/plain": [
       "<function __main__.crea_mifuncion.<locals>.mifuncion>"
      ]
     },
     "execution_count": 11,
     "metadata": {},
     "output_type": "execute_result"
    }
   ],
   "source": [
    "f = crea_mifuncion(1)\n",
    "f"
   ]
  },
  {
   "cell_type": "code",
   "execution_count": 10,
   "metadata": {
    "collapsed": false
   },
   "outputs": [
    {
     "data": {
      "text/plain": [
       "3"
      ]
     },
     "execution_count": 10,
     "metadata": {},
     "output_type": "execute_result"
    }
   ],
   "source": [
    "f(2)"
   ]
  },
  {
   "cell_type": "markdown",
   "metadata": {},
   "source": [
    "Por lo tanto lo que hemos hecho es crear una función que se llama `crea_mifuncion` que recibe un parámetro `x`. En el cuerpo de `crea_mifuncion` creamos una función interna que se llama `mifuncion` y que espera recibir otro parámetro, `y`. La función interna devuelve la suma de `x` e `y`, y la función externa devuelve la función interna.\n",
    "\n",
    "¿Pero cómo `mifuncion` tiene acceso a `x`? ¿No lanza Python una excepción?\n",
    "\n",
    "Veamos qué hace Python cuando llega a ese punto de código:\n",
    "\n",
    "+ Mira si `x` está en el diccionario de `locals()`. `locals()` devuelve las variables definidas en el ámbito más cercano, que en este caso es el de `mifuncion`. Si encuentra, entonces el valor de `x` es el valor asociado a `x` en `locals()`:\n",
    "\n",
    "```python\n",
    "if x in locals():\n",
    "    return locals()[x]\n",
    "```\n",
    "        \n",
    "+ Mira si `x` está en el diccionario de `globals()`. `globals()` devuelve las variables definidas a nivel de módulo, es decir las variables que no están definidas dentro de un ámbito de clases o función. Si encuentra, entonces el valor de `x` es el valor asociado a `x` en `globals()`:\n",
    "\n",
    "```python\n",
    "if x in locals():\n",
    "    return locals()[x]\n",
    "```\n",
    "\n",
    "+ Mira si `x` está en el diccionario de `__builtins__.__dict__`. `__builtins__.__dict__` contiene aquellas variables definidas en el módulo `builtin`y son importadas automáticamente cuando se ejecuta Python). Si encuentra, entonces el valor de `x` es el valor asociado a `x` en `__builtins__.__dict__`:\n",
    "\n",
    "```python\n",
    "if x in __builtins__.__dict__:\n",
    "return __builtins__.__dict__[x]\n",
    "```\n",
    "        \n",
    "+ Si no se cumple nada de lo anterior, lanza una excepción `NameError`.\n",
    "\n",
    "En nuestro caso la variable `x` no cumple con con ninguno de los 4 puntos anteriores. ¿Qué está pasando?\n",
    "\n"
   ]
  },
  {
   "cell_type": "code",
   "execution_count": 15,
   "metadata": {
    "collapsed": false
   },
   "outputs": [],
   "source": [
    "def crea_mifuncion(x):\n",
    "    print (\"Dentro de crea_mifuncion\")\n",
    "    print (\"locals(): \", locals())\n",
    "    def mifuncion(y):\n",
    "        print (\"Dentro de mifuncion\")\n",
    "        print (\"locals():\", locals())\n",
    "        return x + y\n",
    "    return mifuncion"
   ]
  },
  {
   "cell_type": "markdown",
   "metadata": {},
   "source": [
    "Según lo que hemos hablado, `x` debería ser devuelva por `locals()` de `crea_mi funcion` y no por `locals()` de `mi funcion`, así que probémoslo:"
   ]
  },
  {
   "cell_type": "code",
   "execution_count": 16,
   "metadata": {
    "collapsed": false
   },
   "outputs": [
    {
     "name": "stdout",
     "output_type": "stream",
     "text": [
      "Dentro de crea_mifuncion\n",
      "locals():  {'x': 1}\n"
     ]
    }
   ],
   "source": [
    "f = crea_mifuncion(1)"
   ]
  },
  {
   "cell_type": "code",
   "execution_count": 17,
   "metadata": {
    "collapsed": false
   },
   "outputs": [
    {
     "name": "stdout",
     "output_type": "stream",
     "text": [
      "Dentro de mifuncion\n",
      "locals(): {'y': 2, 'x': 1}\n"
     ]
    },
    {
     "data": {
      "text/plain": [
       "3"
      ]
     },
     "execution_count": 17,
     "metadata": {},
     "output_type": "execute_result"
    }
   ],
   "source": [
    "f(2)"
   ]
  },
  {
   "cell_type": "markdown",
   "metadata": {},
   "source": [
    "Ohhhhhh, `x` aparece dentro de `locals()` de `mifuncion`, por eso no me lanza la excepción."
   ]
  }
 ],
 "metadata": {
  "kernelspec": {
   "display_name": "Python 3",
   "language": "python",
   "name": "python3"
  },
  "language_info": {
   "codemirror_mode": {
    "name": "ipython",
    "version": 3
   },
   "file_extension": ".py",
   "mimetype": "text/x-python",
   "name": "python",
   "nbconvert_exporter": "python",
   "pygments_lexer": "ipython3",
   "version": "3.4.3"
  }
 },
 "nbformat": 4,
 "nbformat_minor": 0
}
